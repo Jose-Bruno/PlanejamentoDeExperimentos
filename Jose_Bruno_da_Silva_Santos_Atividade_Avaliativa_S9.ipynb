{
  "nbformat": 4,
  "nbformat_minor": 0,
  "metadata": {
    "colab": {
      "name": "Jose_Bruno_da_Silva_Santos - Atividade Avaliativa S9.ipynb",
      "provenance": [],
      "authorship_tag": "ABX9TyMl5eEujMuKMafCbhVIz7kw",
      "include_colab_link": true
    },
    "kernelspec": {
      "name": "python3",
      "display_name": "Python 3"
    },
    "language_info": {
      "name": "python"
    }
  },
  "cells": [
    {
      "cell_type": "markdown",
      "metadata": {
        "id": "view-in-github",
        "colab_type": "text"
      },
      "source": [
        "<a href=\"https://colab.research.google.com/github/Jose-Bruno/PlanejamentoDeExperimentos/blob/main/Jose_Bruno_da_Silva_Santos_Atividade_Avaliativa_S9.ipynb\" target=\"_parent\"><img src=\"https://colab.research.google.com/assets/colab-badge.svg\" alt=\"Open In Colab\"/></a>"
      ]
    },
    {
      "cell_type": "code",
      "metadata": {
        "id": "4H7lG2bxzRFh"
      },
      "source": [
        ""
      ],
      "execution_count": null,
      "outputs": []
    }
  ]
}